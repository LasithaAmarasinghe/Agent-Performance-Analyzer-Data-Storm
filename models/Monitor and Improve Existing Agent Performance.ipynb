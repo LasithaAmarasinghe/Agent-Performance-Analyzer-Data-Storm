{
 "cells": [
  {
   "cell_type": "markdown",
   "id": "5684e57e",
   "metadata": {},
   "source": [
    "# Monitor and Improve Existing Agent Performance\n",
    "\n",
    "In this notebook, we focus on analyzing and improving the performance of existing agents. Agents may be performing at various levels—whether they are doing well, okay, or poorly—and their performance may change over time. The goal is to track their performance and provide targeted interventions to help them evolve into top-performing agents.\n",
    "\n",
    "1. **Analyze Past and Current Performance Data**:  \n",
    "   We begin by thoroughly analyzing the historical and current performance data available in the dataset. This will help us identify patterns, trends, and key performance metrics for each agent.\n",
    "\n",
    "2. **Categorize Agents by Performance**:  \n",
    "   Agents will be categorized based on their performance levels, such as High, Medium, and Low performers. This categorization allows us to tailor our approach to different agent groups and focus on the most impactful areas.\n",
    "\n",
    "3. **Recommend Custom Interventions**:  \n",
    "   For each performance group, we will recommend specific interventions that can help agents improve. These interventions will be customized based on the performance level and may include training programs, performance reviews, or other strategies.\n",
    "\n",
    "4. **Track Progress Over Time**:  \n",
    "   It is crucial to monitor the progress of agents over time to determine whether the interventions are effective. We will track their performance at regular intervals and assess if improvements are being made.\n"
   ]
  },
  {
   "cell_type": "markdown",
   "id": "5715faed",
   "metadata": {},
   "source": [
    "# Import libraries and load data"
   ]
  },
  {
   "cell_type": "code",
   "execution_count": 1,
   "id": "9a813542",
   "metadata": {},
   "outputs": [],
   "source": [
    "import pandas as pd\n",
    "import numpy as np\n",
    "import matplotlib.pyplot as plt\n",
    "import seaborn as sns\n",
    "from sklearn.preprocessing import StandardScaler\n",
    "from sklearn.cluster import KMeans\n",
    "from sklearn.decomposition import PCA\n",
    "import plotly.express as px\n",
    "import plotly.graph_objects as go\n",
    "from plotly.subplots import make_subplots\n",
    "from datetime import datetime, timedelta\n",
    "\n",
    "# Load the data\n",
    "file_path='datasets/train_storming_round.csv'\n",
    "df = pd.read_csv(file_path)\n",
    "    "
   ]
  },
  {
   "cell_type": "markdown",
   "id": "2c181cae",
   "metadata": {},
   "source": [
    "# Preprocess the data for analysis"
   ]
  },
  {
   "cell_type": "code",
   "execution_count": 2,
   "id": "f5a3c273",
   "metadata": {},
   "outputs": [],
   "source": [
    "# Convert date columns to datetime format\n",
    "date_columns = ['agent_join_month', 'first_policy_sold_month', 'year_month']\n",
    "for col in date_columns:\n",
    "    df[col] = pd.to_datetime(df[col])\n",
    "\n",
    "# Calculate tenure (months since joining)\n",
    "df['tenure_months'] = ((df['year_month'].dt.year - df['agent_join_month'].dt.year) * 12 + \n",
    "                        (df['year_month'].dt.month - df['agent_join_month'].dt.month))\n",
    "\n",
    "# Calculate months to first sale\n",
    "df['months_to_first_sale'] = ((df['first_policy_sold_month'].dt.year - df['agent_join_month'].dt.year) * 12 + \n",
    "                                (df['first_policy_sold_month'].dt.month - df['agent_join_month'].dt.month))\n",
    "\n",
    "# Replace negative values with 0 (for cases where first_policy_sold_month is before agent_join_month)\n",
    "df['months_to_first_sale'] = df['months_to_first_sale'].clip(lower=0)\n",
    "\n",
    "# Calculate conversion rates\n",
    "df['proposal_to_quotation_rate'] = df['unique_quotations'] / df['unique_proposal'].replace(0, 1)\n",
    "df['quotation_to_policy_rate'] = df['new_policy_count'] / df['unique_quotations'].replace(0, 1)\n",
    "df['overall_conversion_rate'] = df['new_policy_count'] / df['unique_proposal'].replace(0, 1)\n",
    "\n",
    "# Calculate average policy value\n",
    "df['avg_policy_value'] = df['ANBP_value'] / df['new_policy_count'].replace(0, 1)\n",
    "\n",
    "# Calculate profit per policy\n",
    "df['profit_per_policy'] = df['net_income'] / df['new_policy_count'].replace(0, 1)\n",
    "\n",
    "# Calculate activity metrics\n",
    "df['activity_rate_7days'] = df['unique_proposals_last_7_days'] / 7\n",
    "df['activity_rate_15days'] = df['unique_proposals_last_15_days'] / 15\n",
    "df['activity_rate_21days'] = df['unique_proposals_last_21_days'] / 21\n",
    "\n",
    "# Calculate cash payment percentage\n",
    "df['cash_payment_percentage'] = df['number_of_cash_payment_policies'] / df['number_of_policy_holders'].replace(0, 1) * 100"
   ]
  },
  {
   "cell_type": "markdown",
   "id": "5c3a6d08",
   "metadata": {},
   "source": [
    "# Create performance features"
   ]
  },
  {
   "cell_type": "code",
   "execution_count": 3,
   "id": "c20bfcab",
   "metadata": {},
   "outputs": [],
   "source": [
    "performance_features = [\n",
    "    'new_policy_count',              # Sales volume\n",
    "    'ANBP_value',                    # Total sales value\n",
    "    'net_income',                    # Profitability\n",
    "    'avg_policy_value',              # Quality of sales\n",
    "    'profit_per_policy',             # Efficiency\n",
    "    'overall_conversion_rate',       # Sales efficiency\n",
    "    'proposal_to_quotation_rate',    # Stage 1 conversion\n",
    "    'quotation_to_policy_rate',      # Stage 2 conversion\n",
    "    'unique_proposals_last_21_days', # Recent activity\n",
    "    'activity_rate_21days',          # Consistency in prospecting\n",
    "    'unique_customers'               # Customer reach\n",
    "]\n",
    "\n",
    "# Select only the relevant features for performance evaluation\n",
    "performance_df = df[performance_features].copy()\n",
    "\n",
    "# Handle missing values\n",
    "performance_df.fillna(0, inplace=True)"
   ]
  },
  {
   "cell_type": "markdown",
   "id": "a05ac9df",
   "metadata": {},
   "source": [
    "# Classify agents using K-means clustering"
   ]
  },
  {
   "cell_type": "code",
   "execution_count": 4,
   "id": "7c53e552",
   "metadata": {},
   "outputs": [],
   "source": [
    "# Standardize the features\n",
    "scaler = StandardScaler()\n",
    "scaled_features = scaler.fit_transform(performance_df)\n",
    "\n",
    "# Apply PCA for visualization (optional but helpful)\n",
    "pca = PCA(n_components=2)\n",
    "principal_components = pca.fit_transform(scaled_features)\n",
    "pca_df = pd.DataFrame(data=principal_components, columns=['PC1', 'PC2'])\n",
    "\n",
    "# Apply K-means clustering\n",
    "kmeans = KMeans(n_clusters=3, random_state=42)\n",
    "clusters = kmeans.fit_predict(scaled_features)\n",
    "\n",
    "# Analyze cluster centers to determine performance levels\n",
    "cluster_centers = pd.DataFrame(scaler.inverse_transform(kmeans.cluster_centers_), \n",
    "                                columns=performance_features)\n",
    "\n",
    "# Assign performance level to each cluster\n",
    "# High performance: Higher policy count, ANBP, net income, etc.\n",
    "# Calculate a composite score for each cluster\n",
    "composite_scores = (\n",
    "    cluster_centers['new_policy_count'] * 0.2 +\n",
    "    cluster_centers['ANBP_value'] * 0.2 +\n",
    "    cluster_centers['net_income'] * 0.2 +\n",
    "    cluster_centers['overall_conversion_rate'] * 0.2 +\n",
    "    cluster_centers['unique_proposals_last_21_days'] * 0.1 +\n",
    "    cluster_centers['unique_customers'] * 0.1\n",
    ")\n",
    "\n",
    "# Rank clusters based on composite score\n",
    "cluster_rankings = composite_scores.rank(ascending=False)\n",
    "performance_mapping = {}\n",
    "\n",
    "for cluster in range(3):\n",
    "    if cluster_rankings[cluster] == 1:\n",
    "        performance_mapping[cluster] = 'High'\n",
    "    elif cluster_rankings[cluster] == 2:\n",
    "        performance_mapping[cluster] = 'Medium'\n",
    "    else:\n",
    "        performance_mapping[cluster] = 'Low'\n",
    "\n",
    "df['cluster'] = clusters\n",
    "df['performance_level'] = df['cluster'].map(performance_mapping)\n"
   ]
  },
  {
   "cell_type": "markdown",
   "id": "e6b16c8f",
   "metadata": {},
   "source": [
    "# Generate personalized intervention strategies "
   ]
  },
  {
   "cell_type": "code",
   "execution_count": 5,
   "id": "1b2b76c6",
   "metadata": {},
   "outputs": [],
   "source": [
    "# Create a new column for recommendations\n",
    "df['intervention_strategy'] = ''\n",
    "\n",
    "# Low performers\n",
    "low_mask = df['performance_level'] == 'Low'\n",
    "\n",
    "# Low conversion rates\n",
    "low_conv_mask = (df['overall_conversion_rate'] < df['overall_conversion_rate'].quantile(0.25))\n",
    "df.loc[low_mask & low_conv_mask, 'intervention_strategy'] += \"1. Sales Training: Focus on improving conversion techniques and objection handling.\\n\"\n",
    "\n",
    "# Low activity\n",
    "low_activity_mask = (df['activity_rate_21days'] < df['activity_rate_21days'].quantile(0.25))\n",
    "df.loc[low_mask & low_activity_mask, 'intervention_strategy'] += \"2. Activity Management: Set daily prospecting targets and provide closer supervision.\\n\"\n",
    "\n",
    "# New agents\n",
    "new_agent_mask = (df['tenure_months'] <= 6)\n",
    "df.loc[low_mask & new_agent_mask, 'intervention_strategy'] += \"3. Mentorship Program: Pair with experienced agent for shadowing and guidance.\\n\"\n",
    "\n",
    "# General recommendations for all low performers\n",
    "df.loc[low_mask, 'intervention_strategy'] += \"4. Weekly Performance Review: Schedule weekly one-on-one sessions to review metrics and provide feedback.\\n\"\n",
    "df.loc[low_mask, 'intervention_strategy'] += \"5. Product Knowledge: Complete refresher course on core products.\\n\"\n",
    "\n",
    "# Medium performers\n",
    "medium_mask = df['performance_level'] == 'Medium'\n",
    "\n",
    "# Low high-value policies\n",
    "low_value_mask = (df['avg_policy_value'] < df['avg_policy_value'].quantile(0.5))\n",
    "df.loc[medium_mask & low_value_mask, 'intervention_strategy'] += \"1. Upselling Training: Focus on identifying opportunities for premium products.\\n\"\n",
    "\n",
    "# Inconsistent activity\n",
    "inconsistent_mask = (df['unique_proposals_last_21_days'] - df['unique_proposals_last_7_days'] * 3).abs() > 5\n",
    "df.loc[medium_mask & inconsistent_mask, 'intervention_strategy'] += \"2. Consistency Program: Implement daily activity tracking and regular scheduling.\\n\"\n",
    "\n",
    "# Limited customer base\n",
    "limited_customers_mask = (df['unique_customers'] < df['unique_customers'].quantile(0.5))\n",
    "df.loc[medium_mask & limited_customers_mask, 'intervention_strategy'] += \"3. Networking Strategy: Provide resources for expanding customer base and referrals.\\n\"\n",
    "\n",
    "# General recommendations for all medium performers\n",
    "df.loc[medium_mask, 'intervention_strategy'] += \"4. Specialized Product Training: Advanced training on high-margin products.\\n\"\n",
    "df.loc[medium_mask, 'intervention_strategy'] += \"5. Monthly Group Coaching: Join peer group sessions to share best practices.\\n\"\n",
    "\n",
    "# High performers\n",
    "high_mask = df['performance_level'] == 'High'\n",
    "\n",
    "# Focus on retention\n",
    "df.loc[high_mask, 'intervention_strategy'] += \"1. Client Retention Program: Implement a structured follow-up system for existing clients.\\n\"\n",
    "\n",
    "# Leadership development\n",
    "df.loc[high_mask, 'intervention_strategy'] += \"2. Leadership Development: Prepare for team leadership and mentoring roles.\\n\"\n",
    "\n",
    "# Advanced sales techniques\n",
    "df.loc[high_mask, 'intervention_strategy'] += \"3. Advanced Sales Techniques: Training on complex products and high-net-worth client acquisition.\\n\"\n",
    "\n",
    "# Recognition and motivation\n",
    "df.loc[high_mask, 'intervention_strategy'] += \"4. Recognition Program: Highlight achievements in company communications and events.\\n\"\n",
    "\n",
    "# Career development\n",
    "df.loc[high_mask, 'intervention_strategy'] += \"5. Career Path Planning: Set long-term goals and development plan for advancement.\\n\""
   ]
  },
  {
   "cell_type": "markdown",
   "id": "f8e74734",
   "metadata": {},
   "source": [
    "# Create a progress tracker"
   ]
  },
  {
   "cell_type": "code",
   "execution_count": 6,
   "id": "33956824",
   "metadata": {},
   "outputs": [],
   "source": [
    "# Key metrics to track\n",
    "tracking_metrics = [\n",
    "    'new_policy_count',\n",
    "    'ANBP_value',\n",
    "    'net_income',\n",
    "    'overall_conversion_rate',\n",
    "    'unique_proposals_last_21_days',\n",
    "    'unique_customers'\n",
    "]\n",
    "\n",
    "# Create a baseline for current performance\n",
    "progress_tracker = df.groupby(['agent_code', 'performance_level']).agg({\n",
    "    'new_policy_count': 'mean',\n",
    "    'ANBP_value': 'mean',\n",
    "    'net_income': 'mean',\n",
    "    'overall_conversion_rate': 'mean',\n",
    "    'unique_proposals_last_21_days': 'mean',\n",
    "    'unique_customers': 'mean'\n",
    "}).reset_index()\n",
    "\n",
    "# Rename columns to indicate they're baseline values\n",
    "for metric in tracking_metrics:\n",
    "    progress_tracker = progress_tracker.rename(columns={metric: f'{metric}_baseline'})\n",
    "\n",
    "# Set improvement targets based on performance level\n",
    "# Low performers: aim for 30% improvement\n",
    "# Medium performers: aim for 20% improvement\n",
    "# High performers: aim for 10% improvement\n",
    "for metric in tracking_metrics:\n",
    "    progress_tracker[f'{metric}_target'] = progress_tracker.apply(\n",
    "        lambda x: x[f'{metric}_baseline'] * (1.3 if x['performance_level'] == 'Low' \n",
    "                                            else 1.2 if x['performance_level'] == 'Medium'\n",
    "                                            else 1.1),\n",
    "        axis=1\n",
    "    )\n",
    "\n",
    "# Add tracking timeframe (3-month intervention period)\n",
    "today = datetime.now()\n",
    "progress_tracker['intervention_start_date'] = today.strftime('%Y-%m-%d')\n",
    "progress_tracker['first_checkpoint'] = (today + timedelta(days=30)).strftime('%Y-%m-%d')\n",
    "progress_tracker['second_checkpoint'] = (today + timedelta(days=60)).strftime('%Y-%m-%d')\n",
    "progress_tracker['final_evaluation'] = (today + timedelta(days=90)).strftime('%Y-%m-%d')\n",
    "\n",
    "# Add columns for checkpoint data (to be filled later)\n",
    "for checkpoint in ['first_checkpoint', 'second_checkpoint', 'final_evaluation']:\n",
    "    for metric in tracking_metrics:\n",
    "        progress_tracker[f'{metric}_{checkpoint}'] = np.nan\n",
    "        \n",
    "# Add column for improvement status (to be updated at each checkpoint)\n",
    "progress_tracker['improvement_status'] = 'Pending'\n"
   ]
  },
  {
   "cell_type": "markdown",
   "id": "fdbfe626",
   "metadata": {},
   "source": [
    "# Create visualizations "
   ]
  },
  {
   "cell_type": "code",
   "execution_count": 7,
   "id": "e6022df4",
   "metadata": {},
   "outputs": [
    {
     "data": {
      "application/vnd.plotly.v1+json": {
       "config": {
        "plotlyServerURL": "https://plot.ly"
       },
       "data": [
        {
         "domain": {
          "x": [
           0,
           0.45
          ],
          "y": [
           0.625,
           1
          ]
         },
         "labels": [
          "High",
          "Medium",
          "Low"
         ],
         "marker": {
          "colors": [
           "red",
           "gold",
           "green"
          ]
         },
         "name": "Performance Distribution",
         "type": "pie",
         "values": {
          "bdata": "UhuCGvgF",
          "dtype": "i2"
         }
        },
        {
         "marker": {
          "color": [
           "red",
           "gold",
           "green"
          ]
         },
         "name": "Avg Policy Count",
         "showlegend": false,
         "type": "bar",
         "x": [
          "High",
          "Low",
          "Medium"
         ],
         "xaxis": "x",
         "y": {
          "bdata": "DdP1EjWzO0AAAAAAAAAAAJUNTBAoLTFA",
          "dtype": "f8"
         },
         "yaxis": "y"
        },
        {
         "marker": {
          "color": [
           "red",
           "gold",
           "green"
          ]
         },
         "name": "Avg ANBP Value",
         "showlegend": false,
         "type": "bar",
         "x": [
          "High",
          "Low",
          "Medium"
         ],
         "xaxis": "x2",
         "y": {
          "bdata": "JZO28o60N0EAAAAAAAAAAMMjpuYBuSVB",
          "dtype": "f8"
         },
         "yaxis": "y2"
        },
        {
         "marker": {
          "color": [
           "red",
           "gold",
           "green"
          ]
         },
         "name": "Avg Conversion Rate",
         "showlegend": false,
         "type": "bar",
         "x": [
          "High",
          "Low",
          "Medium"
         ],
         "xaxis": "x3",
         "y": {
          "bdata": "LS6TbEXZ8z8AAAAAAAAAANIGtP7ObPc/",
          "dtype": "f8"
         },
         "yaxis": "y3"
        }
       ],
       "layout": {
        "annotations": [
         {
          "font": {
           "size": 16
          },
          "showarrow": false,
          "text": "Performance Level Distribution",
          "x": 0.225,
          "xanchor": "center",
          "xref": "paper",
          "y": 1,
          "yanchor": "bottom",
          "yref": "paper"
         },
         {
          "font": {
           "size": 16
          },
          "showarrow": false,
          "text": "Average Policy Count by Performance Level",
          "x": 0.775,
          "xanchor": "center",
          "xref": "paper",
          "y": 1,
          "yanchor": "bottom",
          "yref": "paper"
         },
         {
          "font": {
           "size": 16
          },
          "showarrow": false,
          "text": "Average ANBP Value by Performance Level",
          "x": 0.225,
          "xanchor": "center",
          "xref": "paper",
          "y": 0.375,
          "yanchor": "bottom",
          "yref": "paper"
         },
         {
          "font": {
           "size": 16
          },
          "showarrow": false,
          "text": "Average Conversion Rate by Performance Level",
          "x": 0.775,
          "xanchor": "center",
          "xref": "paper",
          "y": 0.375,
          "yanchor": "bottom",
          "yref": "paper"
         }
        ],
        "height": 800,
        "template": {
         "data": {
          "bar": [
           {
            "error_x": {
             "color": "#2a3f5f"
            },
            "error_y": {
             "color": "#2a3f5f"
            },
            "marker": {
             "line": {
              "color": "#E5ECF6",
              "width": 0.5
             },
             "pattern": {
              "fillmode": "overlay",
              "size": 10,
              "solidity": 0.2
             }
            },
            "type": "bar"
           }
          ],
          "barpolar": [
           {
            "marker": {
             "line": {
              "color": "#E5ECF6",
              "width": 0.5
             },
             "pattern": {
              "fillmode": "overlay",
              "size": 10,
              "solidity": 0.2
             }
            },
            "type": "barpolar"
           }
          ],
          "carpet": [
           {
            "aaxis": {
             "endlinecolor": "#2a3f5f",
             "gridcolor": "white",
             "linecolor": "white",
             "minorgridcolor": "white",
             "startlinecolor": "#2a3f5f"
            },
            "baxis": {
             "endlinecolor": "#2a3f5f",
             "gridcolor": "white",
             "linecolor": "white",
             "minorgridcolor": "white",
             "startlinecolor": "#2a3f5f"
            },
            "type": "carpet"
           }
          ],
          "choropleth": [
           {
            "colorbar": {
             "outlinewidth": 0,
             "ticks": ""
            },
            "type": "choropleth"
           }
          ],
          "contour": [
           {
            "colorbar": {
             "outlinewidth": 0,
             "ticks": ""
            },
            "colorscale": [
             [
              0,
              "#0d0887"
             ],
             [
              0.1111111111111111,
              "#46039f"
             ],
             [
              0.2222222222222222,
              "#7201a8"
             ],
             [
              0.3333333333333333,
              "#9c179e"
             ],
             [
              0.4444444444444444,
              "#bd3786"
             ],
             [
              0.5555555555555556,
              "#d8576b"
             ],
             [
              0.6666666666666666,
              "#ed7953"
             ],
             [
              0.7777777777777778,
              "#fb9f3a"
             ],
             [
              0.8888888888888888,
              "#fdca26"
             ],
             [
              1,
              "#f0f921"
             ]
            ],
            "type": "contour"
           }
          ],
          "contourcarpet": [
           {
            "colorbar": {
             "outlinewidth": 0,
             "ticks": ""
            },
            "type": "contourcarpet"
           }
          ],
          "heatmap": [
           {
            "colorbar": {
             "outlinewidth": 0,
             "ticks": ""
            },
            "colorscale": [
             [
              0,
              "#0d0887"
             ],
             [
              0.1111111111111111,
              "#46039f"
             ],
             [
              0.2222222222222222,
              "#7201a8"
             ],
             [
              0.3333333333333333,
              "#9c179e"
             ],
             [
              0.4444444444444444,
              "#bd3786"
             ],
             [
              0.5555555555555556,
              "#d8576b"
             ],
             [
              0.6666666666666666,
              "#ed7953"
             ],
             [
              0.7777777777777778,
              "#fb9f3a"
             ],
             [
              0.8888888888888888,
              "#fdca26"
             ],
             [
              1,
              "#f0f921"
             ]
            ],
            "type": "heatmap"
           }
          ],
          "histogram": [
           {
            "marker": {
             "pattern": {
              "fillmode": "overlay",
              "size": 10,
              "solidity": 0.2
             }
            },
            "type": "histogram"
           }
          ],
          "histogram2d": [
           {
            "colorbar": {
             "outlinewidth": 0,
             "ticks": ""
            },
            "colorscale": [
             [
              0,
              "#0d0887"
             ],
             [
              0.1111111111111111,
              "#46039f"
             ],
             [
              0.2222222222222222,
              "#7201a8"
             ],
             [
              0.3333333333333333,
              "#9c179e"
             ],
             [
              0.4444444444444444,
              "#bd3786"
             ],
             [
              0.5555555555555556,
              "#d8576b"
             ],
             [
              0.6666666666666666,
              "#ed7953"
             ],
             [
              0.7777777777777778,
              "#fb9f3a"
             ],
             [
              0.8888888888888888,
              "#fdca26"
             ],
             [
              1,
              "#f0f921"
             ]
            ],
            "type": "histogram2d"
           }
          ],
          "histogram2dcontour": [
           {
            "colorbar": {
             "outlinewidth": 0,
             "ticks": ""
            },
            "colorscale": [
             [
              0,
              "#0d0887"
             ],
             [
              0.1111111111111111,
              "#46039f"
             ],
             [
              0.2222222222222222,
              "#7201a8"
             ],
             [
              0.3333333333333333,
              "#9c179e"
             ],
             [
              0.4444444444444444,
              "#bd3786"
             ],
             [
              0.5555555555555556,
              "#d8576b"
             ],
             [
              0.6666666666666666,
              "#ed7953"
             ],
             [
              0.7777777777777778,
              "#fb9f3a"
             ],
             [
              0.8888888888888888,
              "#fdca26"
             ],
             [
              1,
              "#f0f921"
             ]
            ],
            "type": "histogram2dcontour"
           }
          ],
          "mesh3d": [
           {
            "colorbar": {
             "outlinewidth": 0,
             "ticks": ""
            },
            "type": "mesh3d"
           }
          ],
          "parcoords": [
           {
            "line": {
             "colorbar": {
              "outlinewidth": 0,
              "ticks": ""
             }
            },
            "type": "parcoords"
           }
          ],
          "pie": [
           {
            "automargin": true,
            "type": "pie"
           }
          ],
          "scatter": [
           {
            "fillpattern": {
             "fillmode": "overlay",
             "size": 10,
             "solidity": 0.2
            },
            "type": "scatter"
           }
          ],
          "scatter3d": [
           {
            "line": {
             "colorbar": {
              "outlinewidth": 0,
              "ticks": ""
             }
            },
            "marker": {
             "colorbar": {
              "outlinewidth": 0,
              "ticks": ""
             }
            },
            "type": "scatter3d"
           }
          ],
          "scattercarpet": [
           {
            "marker": {
             "colorbar": {
              "outlinewidth": 0,
              "ticks": ""
             }
            },
            "type": "scattercarpet"
           }
          ],
          "scattergeo": [
           {
            "marker": {
             "colorbar": {
              "outlinewidth": 0,
              "ticks": ""
             }
            },
            "type": "scattergeo"
           }
          ],
          "scattergl": [
           {
            "marker": {
             "colorbar": {
              "outlinewidth": 0,
              "ticks": ""
             }
            },
            "type": "scattergl"
           }
          ],
          "scattermap": [
           {
            "marker": {
             "colorbar": {
              "outlinewidth": 0,
              "ticks": ""
             }
            },
            "type": "scattermap"
           }
          ],
          "scattermapbox": [
           {
            "marker": {
             "colorbar": {
              "outlinewidth": 0,
              "ticks": ""
             }
            },
            "type": "scattermapbox"
           }
          ],
          "scatterpolar": [
           {
            "marker": {
             "colorbar": {
              "outlinewidth": 0,
              "ticks": ""
             }
            },
            "type": "scatterpolar"
           }
          ],
          "scatterpolargl": [
           {
            "marker": {
             "colorbar": {
              "outlinewidth": 0,
              "ticks": ""
             }
            },
            "type": "scatterpolargl"
           }
          ],
          "scatterternary": [
           {
            "marker": {
             "colorbar": {
              "outlinewidth": 0,
              "ticks": ""
             }
            },
            "type": "scatterternary"
           }
          ],
          "surface": [
           {
            "colorbar": {
             "outlinewidth": 0,
             "ticks": ""
            },
            "colorscale": [
             [
              0,
              "#0d0887"
             ],
             [
              0.1111111111111111,
              "#46039f"
             ],
             [
              0.2222222222222222,
              "#7201a8"
             ],
             [
              0.3333333333333333,
              "#9c179e"
             ],
             [
              0.4444444444444444,
              "#bd3786"
             ],
             [
              0.5555555555555556,
              "#d8576b"
             ],
             [
              0.6666666666666666,
              "#ed7953"
             ],
             [
              0.7777777777777778,
              "#fb9f3a"
             ],
             [
              0.8888888888888888,
              "#fdca26"
             ],
             [
              1,
              "#f0f921"
             ]
            ],
            "type": "surface"
           }
          ],
          "table": [
           {
            "cells": {
             "fill": {
              "color": "#EBF0F8"
             },
             "line": {
              "color": "white"
             }
            },
            "header": {
             "fill": {
              "color": "#C8D4E3"
             },
             "line": {
              "color": "white"
             }
            },
            "type": "table"
           }
          ]
         },
         "layout": {
          "annotationdefaults": {
           "arrowcolor": "#2a3f5f",
           "arrowhead": 0,
           "arrowwidth": 1
          },
          "autotypenumbers": "strict",
          "coloraxis": {
           "colorbar": {
            "outlinewidth": 0,
            "ticks": ""
           }
          },
          "colorscale": {
           "diverging": [
            [
             0,
             "#8e0152"
            ],
            [
             0.1,
             "#c51b7d"
            ],
            [
             0.2,
             "#de77ae"
            ],
            [
             0.3,
             "#f1b6da"
            ],
            [
             0.4,
             "#fde0ef"
            ],
            [
             0.5,
             "#f7f7f7"
            ],
            [
             0.6,
             "#e6f5d0"
            ],
            [
             0.7,
             "#b8e186"
            ],
            [
             0.8,
             "#7fbc41"
            ],
            [
             0.9,
             "#4d9221"
            ],
            [
             1,
             "#276419"
            ]
           ],
           "sequential": [
            [
             0,
             "#0d0887"
            ],
            [
             0.1111111111111111,
             "#46039f"
            ],
            [
             0.2222222222222222,
             "#7201a8"
            ],
            [
             0.3333333333333333,
             "#9c179e"
            ],
            [
             0.4444444444444444,
             "#bd3786"
            ],
            [
             0.5555555555555556,
             "#d8576b"
            ],
            [
             0.6666666666666666,
             "#ed7953"
            ],
            [
             0.7777777777777778,
             "#fb9f3a"
            ],
            [
             0.8888888888888888,
             "#fdca26"
            ],
            [
             1,
             "#f0f921"
            ]
           ],
           "sequentialminus": [
            [
             0,
             "#0d0887"
            ],
            [
             0.1111111111111111,
             "#46039f"
            ],
            [
             0.2222222222222222,
             "#7201a8"
            ],
            [
             0.3333333333333333,
             "#9c179e"
            ],
            [
             0.4444444444444444,
             "#bd3786"
            ],
            [
             0.5555555555555556,
             "#d8576b"
            ],
            [
             0.6666666666666666,
             "#ed7953"
            ],
            [
             0.7777777777777778,
             "#fb9f3a"
            ],
            [
             0.8888888888888888,
             "#fdca26"
            ],
            [
             1,
             "#f0f921"
            ]
           ]
          },
          "colorway": [
           "#636efa",
           "#EF553B",
           "#00cc96",
           "#ab63fa",
           "#FFA15A",
           "#19d3f3",
           "#FF6692",
           "#B6E880",
           "#FF97FF",
           "#FECB52"
          ],
          "font": {
           "color": "#2a3f5f"
          },
          "geo": {
           "bgcolor": "white",
           "lakecolor": "white",
           "landcolor": "#E5ECF6",
           "showlakes": true,
           "showland": true,
           "subunitcolor": "white"
          },
          "hoverlabel": {
           "align": "left"
          },
          "hovermode": "closest",
          "mapbox": {
           "style": "light"
          },
          "paper_bgcolor": "white",
          "plot_bgcolor": "#E5ECF6",
          "polar": {
           "angularaxis": {
            "gridcolor": "white",
            "linecolor": "white",
            "ticks": ""
           },
           "bgcolor": "#E5ECF6",
           "radialaxis": {
            "gridcolor": "white",
            "linecolor": "white",
            "ticks": ""
           }
          },
          "scene": {
           "xaxis": {
            "backgroundcolor": "#E5ECF6",
            "gridcolor": "white",
            "gridwidth": 2,
            "linecolor": "white",
            "showbackground": true,
            "ticks": "",
            "zerolinecolor": "white"
           },
           "yaxis": {
            "backgroundcolor": "#E5ECF6",
            "gridcolor": "white",
            "gridwidth": 2,
            "linecolor": "white",
            "showbackground": true,
            "ticks": "",
            "zerolinecolor": "white"
           },
           "zaxis": {
            "backgroundcolor": "#E5ECF6",
            "gridcolor": "white",
            "gridwidth": 2,
            "linecolor": "white",
            "showbackground": true,
            "ticks": "",
            "zerolinecolor": "white"
           }
          },
          "shapedefaults": {
           "line": {
            "color": "#2a3f5f"
           }
          },
          "ternary": {
           "aaxis": {
            "gridcolor": "white",
            "linecolor": "white",
            "ticks": ""
           },
           "baxis": {
            "gridcolor": "white",
            "linecolor": "white",
            "ticks": ""
           },
           "bgcolor": "#E5ECF6",
           "caxis": {
            "gridcolor": "white",
            "linecolor": "white",
            "ticks": ""
           }
          },
          "title": {
           "x": 0.05
          },
          "xaxis": {
           "automargin": true,
           "gridcolor": "white",
           "linecolor": "white",
           "ticks": "",
           "title": {
            "standoff": 15
           },
           "zerolinecolor": "white",
           "zerolinewidth": 2
          },
          "yaxis": {
           "automargin": true,
           "gridcolor": "white",
           "linecolor": "white",
           "ticks": "",
           "title": {
            "standoff": 15
           },
           "zerolinecolor": "white",
           "zerolinewidth": 2
          }
         }
        },
        "title": {
         "text": "Agent Performance Dashboard"
        },
        "width": 1000,
        "xaxis": {
         "anchor": "y",
         "domain": [
          0.55,
          1
         ]
        },
        "xaxis2": {
         "anchor": "y2",
         "domain": [
          0,
          0.45
         ]
        },
        "xaxis3": {
         "anchor": "y3",
         "domain": [
          0.55,
          1
         ]
        },
        "yaxis": {
         "anchor": "x",
         "domain": [
          0.625,
          1
         ]
        },
        "yaxis2": {
         "anchor": "x2",
         "domain": [
          0,
          0.375
         ]
        },
        "yaxis3": {
         "anchor": "x3",
         "domain": [
          0,
          0.375
         ]
        }
       }
      }
     },
     "metadata": {},
     "output_type": "display_data"
    }
   ],
   "source": [
    "\n",
    "# Distribution of performance levels\n",
    "perf_dist = df['performance_level'].value_counts()\n",
    "\n",
    "# Average metrics by performance level\n",
    "avg_metrics = df.groupby('performance_level').agg({\n",
    "    'new_policy_count': 'mean',\n",
    "    'ANBP_value': 'mean',\n",
    "    'net_income': 'mean',\n",
    "    'overall_conversion_rate': 'mean',\n",
    "    'unique_customers': 'mean'\n",
    "}).reset_index()\n",
    "\n",
    "# Create plots\n",
    "fig = make_subplots(\n",
    "    rows=2, cols=2,\n",
    "    subplot_titles=('Performance Level Distribution', 'Average Policy Count by Performance Level',\n",
    "                    'Average ANBP Value by Performance Level', 'Average Conversion Rate by Performance Level'),\n",
    "    specs=[[{'type': 'domain'}, {'type': 'bar'}],\n",
    "            [{'type': 'bar'}, {'type': 'bar'}]]\n",
    ")\n",
    "\n",
    "# Performance distribution pie chart\n",
    "fig.add_trace(\n",
    "    go.Pie(labels=perf_dist.index, values=perf_dist.values, name='Performance Distribution',\n",
    "           marker=dict(colors=['red', 'gold', 'green'])),\n",
    "    row=1, col=1\n",
    ")\n",
    "\n",
    "# Average policy count bar chart\n",
    "fig.add_trace(\n",
    "    go.Bar(x=avg_metrics['performance_level'], y=avg_metrics['new_policy_count'], name='Avg Policy Count',\n",
    "            marker_color=['red', 'gold', 'green'], showlegend=False),\n",
    "    row=1, col=2\n",
    ")\n",
    "\n",
    "# Average ANBP bar chart\n",
    "fig.add_trace(\n",
    "    go.Bar(x=avg_metrics['performance_level'], y=avg_metrics['ANBP_value'], name='Avg ANBP Value',\n",
    "            marker_color=['red', 'gold', 'green'], showlegend=False),\n",
    "    row=2, col=1\n",
    ")\n",
    "\n",
    "# Average conversion rate bar chart\n",
    "fig.add_trace(\n",
    "    go.Bar(x=avg_metrics['performance_level'], y=avg_metrics['overall_conversion_rate'], name='Avg Conversion Rate',\n",
    "            marker_color=['red', 'gold', 'green'], showlegend=False),\n",
    "    row=2, col=2\n",
    ")\n",
    "\n",
    "fig.update_layout(height=800, width=1000, title_text=\"Agent Performance Dashboard\")"
   ]
  },
  {
   "cell_type": "markdown",
   "id": "fe6a0e28",
   "metadata": {},
   "source": [
    "# Display results"
   ]
  },
  {
   "cell_type": "code",
   "execution_count": 8,
   "id": "10a08582",
   "metadata": {},
   "outputs": [
    {
     "name": "stdout",
     "output_type": "stream",
     "text": [
      "Agent Performance Classification Summary:\n",
      "                   count  new_policy_count    ANBP_value     net_income  \\\n",
      "performance_level                                                         \n",
      "High                6994         27.700029  1.553551e+06  314265.227910   \n",
      "Low                 1528          0.000000  0.000000e+00  224314.337042   \n",
      "Medium              6786         17.176393  7.118090e+05  140013.897878   \n",
      "\n",
      "                   overall_conversion_rate  \n",
      "performance_level                           \n",
      "High                              1.240545  \n",
      "Low                               0.000000  \n",
      "Medium                            1.464065  \n",
      "\n",
      "Example Intervention Strategies:\n",
      "\n",
      "Agent Code: 455ca878 (Performance Level: Low)\n",
      "1. Sales Training: Focus on improving conversion techniques and objection handling.\n",
      "2. Activity Management: Set daily prospecting targets and provide closer supervision.\n",
      "4. Weekly Performance Review: Schedule weekly one-on-one sessions to review metrics and provide feedback.\n",
      "5. Product Knowledge: Complete refresher course on core products.\n",
      "\n",
      "\n",
      "Agent Code: 62154055 (Performance Level: Medium)\n",
      "4. Specialized Product Training: Advanced training on high-margin products.\n",
      "5. Monthly Group Coaching: Join peer group sessions to share best practices.\n",
      "\n",
      "\n",
      "Agent Code: c823ce77 (Performance Level: High)\n",
      "1. Client Retention Program: Implement a structured follow-up system for existing clients.\n",
      "2. Leadership Development: Prepare for team leadership and mentoring roles.\n",
      "3. Advanced Sales Techniques: Training on complex products and high-net-worth client acquisition.\n",
      "4. Recognition Program: Highlight achievements in company communications and events.\n",
      "5. Career Path Planning: Set long-term goals and development plan for advancement.\n",
      "\n"
     ]
    }
   ],
   "source": [
    "# Display results\n",
    "performance_summary = df.groupby('performance_level').agg({\n",
    "    'agent_code': 'count',\n",
    "    'new_policy_count': 'mean',\n",
    "    'ANBP_value': 'mean',\n",
    "    'net_income': 'mean',\n",
    "    'overall_conversion_rate': 'mean'\n",
    "}).rename(columns={'agent_code': 'count'})\n",
    "\n",
    "print(\"Agent Performance Classification Summary:\")\n",
    "print(performance_summary)\n",
    "\n",
    "# Save results to files\n",
    "df.to_csv('agent_performance_classified.csv', index=False)\n",
    "progress_tracker.to_csv('agent_progress_tracker.csv', index=False)\n",
    "\n",
    "# Example of displaying strategies for a few agents from each category\n",
    "print(\"\\nExample Intervention Strategies:\")\n",
    "for level in ['Low', 'Medium', 'High']:\n",
    "    example_agents = df[df['performance_level'] == level].head(1)\n",
    "    for _, agent in example_agents.iterrows():\n",
    "        print(f\"\\nAgent Code: {agent['agent_code']} (Performance Level: {level})\")\n",
    "        print(agent['intervention_strategy'])\n"
   ]
  },
  {
   "cell_type": "code",
   "execution_count": null,
   "id": "aa7f9b5a",
   "metadata": {},
   "outputs": [],
   "source": []
  }
 ],
 "metadata": {
  "kernelspec": {
   "display_name": "base",
   "language": "python",
   "name": "python3"
  },
  "language_info": {
   "codemirror_mode": {
    "name": "ipython",
    "version": 3
   },
   "file_extension": ".py",
   "mimetype": "text/x-python",
   "name": "python",
   "nbconvert_exporter": "python",
   "pygments_lexer": "ipython3",
   "version": "3.12.7"
  }
 },
 "nbformat": 4,
 "nbformat_minor": 5
}
